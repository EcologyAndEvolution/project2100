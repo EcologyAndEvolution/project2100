{
 "cells": [
  {
   "cell_type": "markdown",
   "metadata": {},
   "source": [
    "# The Science Behind Project2100 Art Installation\n",
    "\n",
    "*This is a Jupyter Notebook. It contains text, pictures, data, and code relating to the Project2100 art installation at UMASS Dartmouth, Oct 13, 2016. The code for the project lives at https://github.com/dsblank/project2100*"
   ]
  },
  {
   "cell_type": "markdown",
   "metadata": {},
   "source": [
    "## Project Background\n",
    "\n",
    "In the summer of 2016, Rhine Singleton, Biologist at [Franklin Pierce University](https://www.franklinpierce.edu/), began discussing an idea with Douglas Blank, Computer Scientist at [Bryn Mawr College](https://www.brynmawr). Rhine had built programs before to turn climate change data into an auditory experience. This is called *sonification*. But Rhine wanted to take the idea of sonification of climate change data and turn it into an art exhibit where participants could experience the sonification. A plan began to emerge: \n",
    "\n",
    "Create an art installation that:\n",
    "\n",
    "1. Allowed the participant to experience past climate change effects\n",
    "2. Allowed the participant to explore the possible outcomes\n",
    "3. Based the experience on scientific priniciples\n",
    "4. Created an engaging, aesthetic experience for the participant\n",
    "5. Used open-source code, allowing others to build on our work\n",
    "\n",
    "Five main ideas emerged from this meeting:\n",
    "\n",
    "1. Participants would walk through a *soundfield* which somehow represented time\n",
    "2. Participants would be able to pick future pathways resulting in different outcomes in the year 2100\n",
    "3. We would use sometype of sensor to detect their movement in space \n",
    "4. Sounds would be generated on-the-fly\n",
    "5. Video could also be generated on the fly, but focus would be on sound\n",
    "\n",
    "We began some initial digging and decided to explore:\n",
    "\n",
    "* chuck - a Python music generation interface originally by Ananya Misra based on [Princeton's music research](http://chuck.stanford.edu/)\n",
    "* kinect - the X-Box game sensor"
   ]
  },
  {
   "cell_type": "markdown",
   "metadata": {},
   "source": [
    "## The Climate Change Data\n",
    "\n",
    "Original data from NASA: [nasa data 1898 to 2015.csv](nasa data 1898 to 2015.csv)\n",
    "\n",
    "The data was \"smoothed\" between 1950 and 2015. The variability in the raw data make the temp changes hard to parse. Though the variability in visual graphs and non-interactive versions of the sound graphs is generally nice, it was problematic here. \n",
    "\n",
    "You can see the final data here: https://github.com/dsblank/project2100/blob/master/project2100.py#L35"
   ]
  },
  {
   "cell_type": "markdown",
   "metadata": {},
   "source": [
    "## Sound Space Interaction\n",
    "\n",
    "Rhine imagined the soundfield interaction zone to look something like this:\n",
    "\n",
    "<img src=\"20160725_123943_resized.jpg\" width=\"300\"/>\n",
    "\n",
    "Rhine surveyed possible areas inside the installation site, and made some videos of himself walking through these spaces:\n",
    "\n",
    "<img src=\"longnarrow.png\"/>\n",
    "\n",
    "Initial Kinect experimentation looked promising. Here is the first test image at Doug's house from the summer of 2016:\n",
    "\n",
    "<img src=\"test1.jpg\"/>\n",
    "\n",
    "The size of the test area was quite a bit different from Rhine's original larger soundfield space. However, Rhine began thinking about the layout of an adapted plan:\n",
    "\n",
    "<img src=\"Screenshot%20from%202016-10-09%2006%3A46%3A59.png\" />"
   ]
  },
  {
   "cell_type": "markdown",
   "metadata": {},
   "source": [
    "## Problems Found and Worked-around\n",
    "\n",
    "* the data from the kinect was different from what was expected\n",
    "* finding robust parameters for detecting people's location was tricky\n",
    "* initializing chuck twice corrupts the sounds\n",
    "* an original bug had us working with a single row of pixels\n",
    "* auto-startup was very finicky; trial and error with delays"
   ]
  },
  {
   "cell_type": "markdown",
   "metadata": {},
   "source": [
    "## Lessons Learned\n",
    "\n",
    "* We should have built the graphical display earlier, for debugging purposes.\n",
    "* "
   ]
  }
 ],
 "metadata": {
  "kernelspec": {
   "display_name": "Python 2",
   "language": "python",
   "name": "python2"
  },
  "language_info": {
   "codemirror_mode": {
    "name": "ipython",
    "version": 2
   },
   "file_extension": ".py",
   "mimetype": "text/x-python",
   "name": "python",
   "nbconvert_exporter": "python",
   "pygments_lexer": "ipython2",
   "version": "2.7.6"
  }
 },
 "nbformat": 4,
 "nbformat_minor": 1
}
